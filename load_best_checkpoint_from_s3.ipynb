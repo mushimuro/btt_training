{
  "cells": [
    {
      "cell_type": "markdown",
      "metadata": {},
      "source": [
        "# Load Best Checkpoint from S3\n",
        "\n",
        "This notebook downloads the best trained model checkpoint from the S3 bucket `4k-woody-btt` and saves it under `data/checkpoint/` in this repository.\n",
        "\n",
        "S3 path structure:\n",
        "- `s3://4k-woody-btt/4k/data/t15_pretrained_rnn_baseline/checkpoint/best_checkpoint`\n",
        "\n",
        "Local save path:\n",
        "- `data/checkpoint/best_checkpoint.pth`\n"
      ]
    },
    {
      "cell_type": "code",
      "execution_count": null,
      "metadata": {},
      "outputs": [],
      "source": [
        "# Install required packages\n",
        "%pip install boto3 torch omegaconf\n"
      ]
    },
    {
      "cell_type": "code",
      "execution_count": null,
      "metadata": {},
      "outputs": [],
      "source": [
        "import os\n",
        "import boto3\n",
        "import torch\n",
        "import tempfile\n",
        "from pathlib import Path\n",
        "\n",
        "# Configure S3\n",
        "S3_BUCKET = '4k-woody-btt'\n",
        "S3_KEY = '4k/data/t15_pretrained_rnn_baseline/checkpoint/best_checkpoint'  # exact key provided\n",
        "\n",
        "# Local path\n",
        "LOCAL_DIR = Path('data/checkpoint')\n",
        "LOCAL_DIR.mkdir(parents=True, exist_ok=True)\n",
        "LOCAL_CHECKPOINT_PATH = LOCAL_DIR / 'best_checkpoint.pth'\n",
        "\n",
        "s3 = boto3.client('s3')\n",
        "print(f\"S3 bucket: {S3_BUCKET}\")\n",
        "print(f\"S3 key: {S3_KEY}\")\n",
        "print(f\"Local save path: {LOCAL_CHECKPOINT_PATH}\")\n"
      ]
    },
    {
      "cell_type": "code",
      "execution_count": null,
      "metadata": {},
      "outputs": [],
      "source": [
        "# Download from S3 and save locally\n",
        "with tempfile.NamedTemporaryFile(delete=False) as tmp:\n",
        "    tmp_path = tmp.name\n",
        "\n",
        "try:\n",
        "    s3.download_file(S3_BUCKET, S3_KEY, tmp_path)\n",
        "    # If source file lacks .pth extension, still save as .pth locally for consistency\n",
        "    os.replace(tmp_path, LOCAL_CHECKPOINT_PATH)\n",
        "    print(f\"Downloaded and saved to {LOCAL_CHECKPOINT_PATH}\")\n",
        "except Exception as e:\n",
        "    try:\n",
        "        os.unlink(tmp_path)\n",
        "    except Exception:\n",
        "        pass\n",
        "    raise e\n"
      ]
    },
    {
      "cell_type": "code",
      "execution_count": null,
      "metadata": {},
      "outputs": [],
      "source": [
        "# Optional: verify that checkpoint is loadable with torch\n",
        "try:\n",
        "    ckpt = torch.load(LOCAL_CHECKPOINT_PATH, map_location='cpu')\n",
        "    if isinstance(ckpt, dict) and ('model_state_dict' in ckpt or 'state_dict' in ckpt):\n",
        "        print(\"Checkpoint structure looks valid.\")\n",
        "        print(\"Keys:\", list(ckpt.keys())[:5])\n",
        "    else:\n",
        "        print(\"Loaded object is not a standard torch checkpoint dict. Displaying type:\", type(ckpt))\n",
        "except Exception as e:\n",
        "    print(\"Warning: could not load checkpoint with torch:\", str(e))\n"
      ]
    }
  ],
  "metadata": {
    "language_info": {
      "name": "python"
    }
  },
  "nbformat": 4,
  "nbformat_minor": 2
}
