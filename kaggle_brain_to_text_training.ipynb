{
  "cells": [
    {
      "cell_type": "markdown",
      "metadata": {},
      "source": [
        "# This Python 3 environment comes with many helpful analytics libraries installed\n",
        "# It is defined by the kaggle/python Docker image: https://github.com/kaggle/docker-python\n",
        "# For example, here's several helpful packages to load\n",
        "\n",
        "import numpy as np # linear algebra\n",
        "import pandas as pd # data processing, CSV file I/O (e.g. pd.read_csv)\n",
        "\n",
        "# Input data files are available in the read-only \"../input/\" directory\n",
        "# For example, running this (by clicking run or pressing Shift+Enter) will list all files under the input directory\n",
        "\n",
        "import os\n",
        "for dirname, _, filenames in os.walk('/kaggle/input'):\n",
        "    for filename in filenames:\n",
        "        print(os.path.join(dirname, filename))\n",
        "\n",
        "# You can write up to 20GB to the current directory (/kaggle/working/) that gets preserved as output when you create a version using \"Save & Run All\" \n",
        "# You can also write temporary files to /kaggle/temp/, but they won't be saved outside of the current session"
      ]
    },
    {
      "cell_type": "code",
      "execution_count": null,
      "metadata": {},
      "outputs": [],
      "source": [
        "!git clone https://github.com/Neuroprosthetics-Lab/nejm-brain-to-text.git"
      ]
    },
    {
      "cell_type": "code",
      "execution_count": null,
      "metadata": {},
      "outputs": [],
      "source": [
        "!cd kaggle_btt_testing/model_training"
      ]
    },
    {
      "cell_type": "code",
      "execution_count": null,
      "metadata": {},
      "outputs": [],
      "source": [
        "!pip install omegaconf h5py torchaudio"
      ]
    },
    {
      "cell_type": "code",
      "execution_count": null,
      "metadata": {},
      "outputs": [],
      "source": [
        "import torch\n",
        "import torch.nn as nn\n",
        "from torch.utils.data import Dataset, DataLoader\n",
        "from torch.optim.lr_scheduler import LambdaLR\n",
        "import h5py\n",
        "import numpy as np\n",
        "import os\n",
        "import time\n",
        "import logging\n",
        "import json\n",
        "import pickle\n",
        "import math\n",
        "import random\n",
        "from torch.nn.utils.rnn import pad_sequence\n",
        "import torchaudio.functional as F\n",
        "from omegaconf import OmegaConf\n",
        "from pathlib import Path\n",
        "\n",
        "# Set up device\n",
        "device = torch.device('cuda' if torch.cuda.is_available() else 'cpu')\n",
        "print(f'Using device: {device}')"
      ]
    },
    {
      "cell_type": "markdown",
      "metadata": {},
      "source": [
        "### Run original training code"
      ]
    },
    {
      "cell_type": "code",
      "execution_count": null,
      "metadata": {},
      "outputs": [],
      "source": [
        "# Run Original train_model.py in Kaggle\n",
        "import sys\n",
        "import os\n",
        "\n",
        "# Add the model_training directory to Python path\n",
        "sys.path.append('/kaggle/working/nejm-brain-to-text/model_training')\n",
        "\n",
        "# Change to the model_training directory\n",
        "os.chdir('/kaggle/working/nejm-brain-to-text/model_training')\n",
        "\n",
        "# Import and run the original training\n",
        "from omegaconf import OmegaConf\n",
        "from rnn_trainer import BrainToTextDecoder_Trainer\n",
        "\n",
        "print(\"Loading original configuration...\")\n",
        "args = OmegaConf.load('rnn_args.yaml')\n",
        "\n",
        "# Modify the dataset path for Kaggle\n",
        "args.dataset.dataset_dir = '/kaggle/input/brain-to-text-25/t15_copyTask_neuralData/hdf5_data_final'\n",
        "\n",
        "# Modify output directories for Kaggle\n",
        "args.output_dir = '/kaggle/working/trained_models/baseline_rnn'\n",
        "args.checkpoint_dir = '/kaggle/working/trained_models/baseline_rnn/checkpoint'\n",
        "\n",
        "# Resume from saved version output\n",
        "# args.init_from_checkpoint = True\n",
        "# args.init_checkpoint_path = '/kaggle/working/trained_models/baseline_rnn/checkpoint/best_checkpoint'\n",
        "\n",
        "# # Continue for remaining steps\n",
        "# args.num_training_batches = 58600\n",
        "\n",
        "print(\"Starting original training script...\")\n",
        "print(f\"Dataset directory: {args.dataset.dataset_dir}\")\n",
        "print(f\"Output directory: {args.output_dir}\")\n",
        "\n",
        "# Create the trainer and run training\n",
        "trainer = BrainToTextDecoder_Trainer(args)\n",
        "metrics = trainer.train()\n",
        "\n",
        "print(\"✅ Original training completed!\")\n",
        "print(f\"Final metrics: {metrics}\")"
      ]
    }
  ],
  "metadata": {
    "kernelspec": {
      "display_name": "Python 3",
      "language": "python",
      "name": "python3"
    },
    "language_info": {
      "name": "python",
      "version": "3.12.8"
    }
  },
  "nbformat": 4,
  "nbformat_minor": 2
}
